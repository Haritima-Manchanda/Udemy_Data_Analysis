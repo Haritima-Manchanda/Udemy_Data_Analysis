{
 "cells": [
  {
   "attachments": {},
   "cell_type": "markdown",
   "metadata": {},
   "source": [
    "## UDEMY DATA ANALYSIS\n",
    "### HARITIMA MANCHANDA\n",
    "\n",
    "#### PROBLEM STATEMENT -\n",
    "Udemy is an online learning platform that offers a wide range of courses on various topics. Udemy hosts a diverse catalog of courses spanning areas such as business, technology, and personal development. However, it suffers challenges in providing courses that cater to different levels, preferences, and learning styles. In this analysis, we will consider the factors that affect the number of subscribers on courses on Udemy.\n",
    "\n",
    "#### PROBLEM JUSTIFICATION -\n",
    "Udemy has drastically changed the landscape of education through online learning. Udemy encompasses a wide range of courses, varying in quality, credibility, pricing, level, and content. Because of these variablities, Udemy faces several challenges in providing courses that cater to different levels, preferences, and learning styles. Therefore, ensuring the quality and credibility of online courses is crucial to maintain learner trust and engagement.\n",
    "\n",
    "#### RESEARCH QUESTIONS -\n",
    "1. Does number of subscribers depend on: number of reviews, price, number of lectures, content_duration?\n",
    "2. How does the level of a course (e.g., beginner, intermediate, advanced) impact its popularity? Do certain levels attract more subscribers? \n",
    "3. How does the paid vs. free course model impact the number of subscribers? Do paid courses have more or fewer subscribers compared to free courses?\n",
    "4. Can we identify any differences in the popularity of courses based on their content categories (e.g., technology, business, arts)? Are certain categories more popular than others?\n",
    "\n",
    "#### QUESTION JUSTIFICATION -\n",
    "The research questions related to factors influencing subscriber count, course level impact, course model comparison, and content category popularity in online education on Udemy can contribute to addressing several societal problems:\n",
    "\n",
    "1. Access to Education: By understanding the factors that attract more subscribers and make courses popular, educational platforms and course creators can tailor their offerings to meet the needs of a diverse range of learners. This can enhance access to education by providing courses that cater to different levels, preferences, and learning styles, ensuring that education is more inclusive and accessible to a larger population.\n",
    "\n",
    "2. Quality of Education: Analyzing the relationship between subscriber count and factors like reviews, content duration, and number of lectures can help improve the quality of online education. By identifying the factors that contribute to successful courses and high subscriber engagement, course creators and platforms can focus on creating more effective, engaging, and well-structured courses, ultimately enhancing the overall quality of online education.\n",
    "\n",
    "3. Affordability and Pricing Strategies: Investigating the impact of price and course models (paid vs. free) on subscriber count can help address issues related to the affordability of education. Understanding whether paid or free courses attract more subscribers can inform pricing strategies, allowing course creators and platforms to strike a balance between revenue generation and affordability, ensuring that education remains accessible to a wider audience.\n",
    "\n",
    "4. Alignment with Market Demands: Analyzing the popularity of courses based on content categories can help address societal needs and align educational offerings with market demands. Identifying the most popular categories can inform resource allocation and course development, ensuring that educational resources are available in areas that are in high demand, such as technology, business, or other relevant fields.\n",
    "\n",
    "By addressing these societal problems, the insights gained from answering these research questions can contribute to improving the overall accessibility, quality, affordability, and relevance of online education, thereby empowering individuals, bridging educational gaps, and fostering lifelong learning opportunities for a broader population.\n",
    "\n",
    "#### DATASET\n",
    "The [dataset](https://www.kaggle.com/datasets/andrewmvd/udemy-courses?resource=download) can be found here. This dataset contains 3.682 records of courses from 4 subjects (Business Finance, Graphic Design, Musical Instruments and Web Design) taken from Udemy.\n",
    "\n",
    "\n",
    "\n"
   ]
  },
  {
   "attachments": {},
   "cell_type": "markdown",
   "metadata": {},
   "source": []
  }
 ],
 "metadata": {
  "language_info": {
   "name": "python"
  },
  "orig_nbformat": 4
 },
 "nbformat": 4,
 "nbformat_minor": 2
}
