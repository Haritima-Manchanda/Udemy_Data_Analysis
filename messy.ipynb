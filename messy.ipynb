{
 "cells": [
  {
   "attachments": {},
   "cell_type": "markdown",
   "id": "a5e7f836",
   "metadata": {},
   "source": [
    "### What is the relationship between course price and the number of subscribers? Do higher-priced courses tend to have fewer subscribers?\n",
    "\n",
    "### How does the number of reviews correlate with the number of subscribers? Is there a positive relationship between the two variables?"
   ]
  },
  {
   "cell_type": "code",
   "execution_count": 2,
   "id": "599d025e",
   "metadata": {},
   "outputs": [],
   "source": [
    "import pandas as pd\n",
    "import numpy as np\n",
    "import seaborn as sn\n",
    "import matplotlib.pyplot as plt\n",
    "import scipy.stats as stats"
   ]
  },
  {
   "cell_type": "code",
   "execution_count": 3,
   "id": "286a2408",
   "metadata": {},
   "outputs": [
    {
     "data": {
      "text/html": [
       "<div>\n",
       "<style scoped>\n",
       "    .dataframe tbody tr th:only-of-type {\n",
       "        vertical-align: middle;\n",
       "    }\n",
       "\n",
       "    .dataframe tbody tr th {\n",
       "        vertical-align: top;\n",
       "    }\n",
       "\n",
       "    .dataframe thead th {\n",
       "        text-align: right;\n",
       "    }\n",
       "</style>\n",
       "<table border=\"1\" class=\"dataframe\">\n",
       "  <thead>\n",
       "    <tr style=\"text-align: right;\">\n",
       "      <th></th>\n",
       "      <th>course_title</th>\n",
       "      <th>is_paid</th>\n",
       "      <th>price</th>\n",
       "      <th>num_subscribers</th>\n",
       "      <th>num_reviews</th>\n",
       "      <th>num_lectures</th>\n",
       "      <th>level</th>\n",
       "      <th>content_duration</th>\n",
       "      <th>subject</th>\n",
       "    </tr>\n",
       "  </thead>\n",
       "  <tbody>\n",
       "    <tr>\n",
       "      <th>0</th>\n",
       "      <td>Ultimate Investment Banking Course</td>\n",
       "      <td>True</td>\n",
       "      <td>200</td>\n",
       "      <td>2147</td>\n",
       "      <td>23</td>\n",
       "      <td>51</td>\n",
       "      <td>All Levels</td>\n",
       "      <td>1.5</td>\n",
       "      <td>Business Finance</td>\n",
       "    </tr>\n",
       "    <tr>\n",
       "      <th>1</th>\n",
       "      <td>Complete GST Course &amp; Certification - Grow You...</td>\n",
       "      <td>True</td>\n",
       "      <td>75</td>\n",
       "      <td>2792</td>\n",
       "      <td>923</td>\n",
       "      <td>274</td>\n",
       "      <td>All Levels</td>\n",
       "      <td>39.0</td>\n",
       "      <td>Business Finance</td>\n",
       "    </tr>\n",
       "    <tr>\n",
       "      <th>2</th>\n",
       "      <td>Financial Modeling for Business Analysts and C...</td>\n",
       "      <td>True</td>\n",
       "      <td>45</td>\n",
       "      <td>2174</td>\n",
       "      <td>74</td>\n",
       "      <td>51</td>\n",
       "      <td>Intermediate Level</td>\n",
       "      <td>2.5</td>\n",
       "      <td>Business Finance</td>\n",
       "    </tr>\n",
       "    <tr>\n",
       "      <th>3</th>\n",
       "      <td>Beginner to Pro - Financial Analysis in Excel ...</td>\n",
       "      <td>True</td>\n",
       "      <td>95</td>\n",
       "      <td>2451</td>\n",
       "      <td>11</td>\n",
       "      <td>36</td>\n",
       "      <td>All Levels</td>\n",
       "      <td>3.0</td>\n",
       "      <td>Business Finance</td>\n",
       "    </tr>\n",
       "    <tr>\n",
       "      <th>4</th>\n",
       "      <td>How To Maximize Your Profits Trading Options</td>\n",
       "      <td>True</td>\n",
       "      <td>200</td>\n",
       "      <td>1276</td>\n",
       "      <td>45</td>\n",
       "      <td>26</td>\n",
       "      <td>Intermediate Level</td>\n",
       "      <td>2.0</td>\n",
       "      <td>Business Finance</td>\n",
       "    </tr>\n",
       "  </tbody>\n",
       "</table>\n",
       "</div>"
      ],
      "text/plain": [
       "                                        course_title  is_paid  price  \\\n",
       "0                 Ultimate Investment Banking Course     True    200   \n",
       "1  Complete GST Course & Certification - Grow You...     True     75   \n",
       "2  Financial Modeling for Business Analysts and C...     True     45   \n",
       "3  Beginner to Pro - Financial Analysis in Excel ...     True     95   \n",
       "4       How To Maximize Your Profits Trading Options     True    200   \n",
       "\n",
       "   num_subscribers  num_reviews  num_lectures               level  \\\n",
       "0             2147           23            51          All Levels   \n",
       "1             2792          923           274          All Levels   \n",
       "2             2174           74            51  Intermediate Level   \n",
       "3             2451           11            36          All Levels   \n",
       "4             1276           45            26  Intermediate Level   \n",
       "\n",
       "   content_duration           subject  \n",
       "0               1.5  Business Finance  \n",
       "1              39.0  Business Finance  \n",
       "2               2.5  Business Finance  \n",
       "3               3.0  Business Finance  \n",
       "4               2.0  Business Finance  "
      ]
     },
     "execution_count": 3,
     "metadata": {},
     "output_type": "execute_result"
    }
   ],
   "source": [
    "df = pd.read_csv('udemy_courses.csv')\n",
    "df = df.drop(['course_id', 'url', 'published_timestamp'], axis=1)\n",
    "df.head(5)"
   ]
  },
  {
   "attachments": {},
   "cell_type": "markdown",
   "id": "1152e8f6",
   "metadata": {},
   "source": [
    "To analyze the relationship between course price and the number of subscribers and determine if higher-priced courses tend to have fewer subscribers, we are calculating the correlation coefficient."
   ]
  },
  {
   "cell_type": "code",
   "execution_count": 4,
   "id": "cb9cc267",
   "metadata": {},
   "outputs": [
    {
     "name": "stdout",
     "output_type": "stream",
     "text": [
      "Correlation coefficient between price and num_subscribers:  0.05076934882586656\n"
     ]
    }
   ],
   "source": [
    "course_price, course_subscribers = df['price'], df['num_subscribers']\n",
    "corr_coef = course_price.corr(course_subscribers)\n",
    "print(\"Correlation coefficient between price and num_subscribers: \", corr_coef)"
   ]
  },
  {
   "cell_type": "code",
   "execution_count": 5,
   "id": "445a5f20",
   "metadata": {},
   "outputs": [
    {
     "data": {
      "image/png": "[encoded data removed]",
      "text/plain": [
       "<Figure size 400x300 with 1 Axes>"
      ]
     },
     "metadata": {},
     "output_type": "display_data"
    }
   ],
   "source": [
    "# scatter plot with course price on the x-axis and the number of subscribers on the y-axis. \n",
    "# Each data point represents a course. \n",
    "# The visualization allows us to visually inspect the data and observe any patterns or trends between the variables. \n",
    "fig, ax = plt.subplots(figsize=(4, 3))\n",
    "df.plot.scatter(x='price', y='num_subscribers', c='red', ax=ax)\n",
    "plt.show()"
   ]
  },
  {
   "cell_type": "code",
   "execution_count": 7,
   "id": "052a49a1",
   "metadata": {},
   "outputs": [
    {
     "name": "stdout",
     "output_type": "stream",
     "text": [
      "F-value: 15.466214015346285\n",
      "P-value: 5.362641132165275e-10\n"
     ]
    }
   ],
   "source": [
    "# ANOVA test\n",
    "# Null hypothesis: there is no difference in the number of subscribers across the price ranges.\n",
    "# Alternative hypothesis: there is a significant difference in the number of subscribers based on the course price.\n",
    "# Defining price ranges\n",
    "range1 = df[df['price'] < 50]['num_subscribers']\n",
    "range2 = df[(df['price'] >= 50) & (df['price'] < 100)]['num_subscribers']\n",
    "range3 = df[(df['price'] >= 100) & (df['price'] < 150)]['num_subscribers']\n",
    "range4 = df[df['price'] >= 150]['num_subscribers']\n",
    "\n",
    "# Perform ANOVA test\n",
    "fvalue, pvalue = stats.f_oneway(range1, range2, range3, range4)\n",
    "\n",
    "# Print the results\n",
    "print(\"F-value:\", fvalue)\n",
    "print(\"P-value:\", pvalue)"
   ]
  },
  {
   "attachments": {},
   "cell_type": "markdown",
   "id": "e49f5c5c",
   "metadata": {},
   "source": [
    "A p-value of 5.362641132165275e-10 (approximately 5.36e-10) indicates an extremely small value. \n",
    "\n",
    "When comparing this p-value to a significance level α, such as 0.05, we can conclude that the obtained result is statistically significant. In other words, there is a strong evidence to suggest that there is a significant difference in the number of subscribers across the different price ranges.\n",
    "\n",
    "With such a small p-value, we can reject the null hypothesis, which assumes that there is no difference in the number of subscribers across the price ranges. Instead, we accept the alternative hypothesis, indicating that there is a statistically significant difference in the number of subscribers based on the course price.\n",
    "\n",
    "In summary, based on the provided p-value, we can conclude that there is a significant association between course price ranges and the number of subscribers.\n",
    "\n",
    "But when we created a scatter plot between the price and the number of subscribers we couldn't observe any clear trend or relationship. This is contradictory to the significant p-value obtained from the ANOVA test. One reason could be that the number of subscribers might be influenced by other factors or variables that are not accounted for in the analysis. It's possible that other factors, such as course reviews or content_duration, are more influential in driving the number of subscribers than the price itself. This could explain the lack of a clear relationship between price and the number of subscribers in the scatter plot. \n",
    "\n",
    "To verify this lets check the correlation coefficient between other factors.\n"
   ]
  },
  {
   "cell_type": "code",
   "execution_count": 9,
   "id": "2222d9bc",
   "metadata": {},
   "outputs": [
    {
     "data": {
      "text/html": [
       "<div>\n",
       "<style scoped>\n",
       "    .dataframe tbody tr th:only-of-type {\n",
       "        vertical-align: middle;\n",
       "    }\n",
       "\n",
       "    .dataframe tbody tr th {\n",
       "        vertical-align: top;\n",
       "    }\n",
       "\n",
       "    .dataframe thead th {\n",
       "        text-align: right;\n",
       "    }\n",
       "</style>\n",
       "<table border=\"1\" class=\"dataframe\">\n",
       "  <thead>\n",
       "    <tr style=\"text-align: right;\">\n",
       "      <th></th>\n",
       "      <th>price</th>\n",
       "      <th>num_subscribers</th>\n",
       "      <th>num_reviews</th>\n",
       "      <th>num_lectures</th>\n",
       "      <th>content_duration</th>\n",
       "    </tr>\n",
       "  </thead>\n",
       "  <tbody>\n",
       "    <tr>\n",
       "      <th>price</th>\n",
       "      <td>1.000000</td>\n",
       "      <td>0.050769</td>\n",
       "      <td>0.113696</td>\n",
       "      <td>0.330160</td>\n",
       "      <td>0.293450</td>\n",
       "    </tr>\n",
       "    <tr>\n",
       "      <th>num_subscribers</th>\n",
       "      <td>0.050769</td>\n",
       "      <td>1.000000</td>\n",
       "      <td>0.649946</td>\n",
       "      <td>0.157746</td>\n",
       "      <td>0.161839</td>\n",
       "    </tr>\n",
       "    <tr>\n",
       "      <th>num_reviews</th>\n",
       "      <td>0.113696</td>\n",
       "      <td>0.649946</td>\n",
       "      <td>1.000000</td>\n",
       "      <td>0.243029</td>\n",
       "      <td>0.228889</td>\n",
       "    </tr>\n",
       "    <tr>\n",
       "      <th>num_lectures</th>\n",
       "      <td>0.330160</td>\n",
       "      <td>0.157746</td>\n",
       "      <td>0.243029</td>\n",
       "      <td>1.000000</td>\n",
       "      <td>0.801647</td>\n",
       "    </tr>\n",
       "    <tr>\n",
       "      <th>content_duration</th>\n",
       "      <td>0.293450</td>\n",
       "      <td>0.161839</td>\n",
       "      <td>0.228889</td>\n",
       "      <td>0.801647</td>\n",
       "      <td>1.000000</td>\n",
       "    </tr>\n",
       "  </tbody>\n",
       "</table>\n",
       "</div>"
      ],
      "text/plain": [
       "                     price  num_subscribers  num_reviews  num_lectures  \\\n",
       "price             1.000000         0.050769     0.113696      0.330160   \n",
       "num_subscribers   0.050769         1.000000     0.649946      0.157746   \n",
       "num_reviews       0.113696         0.649946     1.000000      0.243029   \n",
       "num_lectures      0.330160         0.157746     0.243029      1.000000   \n",
       "content_duration  0.293450         0.161839     0.228889      0.801647   \n",
       "\n",
       "                  content_duration  \n",
       "price                     0.293450  \n",
       "num_subscribers           0.161839  \n",
       "num_reviews               0.228889  \n",
       "num_lectures              0.801647  \n",
       "content_duration          1.000000  "
      ]
     },
     "execution_count": 9,
     "metadata": {},
     "output_type": "execute_result"
    }
   ],
   "source": [
    "corr_df = df.drop(['course_title', 'is_paid', 'level', 'subject'], axis=1)\n",
    "corr_df.corr()"
   ]
  },
  {
   "cell_type": "code",
   "execution_count": 8,
   "id": "d069ac04",
   "metadata": {},
   "outputs": [
    {
     "data": {
      "image/png": "[encoded data removed]",
      "text/plain": [
       "<Figure size 400x300 with 1 Axes>"
      ]
     },
     "metadata": {},
     "output_type": "display_data"
    }
   ],
   "source": [
    "fig, ax = plt.subplots(figsize=(4, 3))\n",
    "df.plot.scatter(x='num_reviews', y='num_subscribers', c='red', ax=ax)\n",
    "plt.show()"
   ]
  },
  {
   "attachments": {},
   "cell_type": "markdown",
   "id": "e8c3e1b4",
   "metadata": {},
   "source": [
    "A correlation coefficient of 0.649946 indicates a moderate positive correlation between the number of reviews and the number of subscribers. The scatter plot also shows a positive relationship, it further supports the conclusion of a positive association between these two variables.\n",
    "\n",
    "Based on these findings, we can conclude that there is a moderate positive relationship between the number of reviews and the number of subscribers in the Udemy dataset we analyzed. This means that as the number of reviews increases, the number of subscribers tends to increase as well. In conclusion, the analysis suggests that a higher number of reviews is associated with a larger number of subscribers, indicating the potential influence of positive reviews on course popularity and learner engagement."
   ]
  },
  {
   "attachments": {},
   "cell_type": "markdown",
   "id": "832acbed",
   "metadata": {},
   "source": [
    "In conclusion, if there is no significant relationship between course price and the number of subscribers, it implies that the accessibility and affordability of online courses may not be solely determined by price. Other factors such as course quality, and course reviews may have a stronger influence on the number of subscribers.\n",
    "\n",
    "While price can be an important factor in determining the affordability of online courses, it's essential to recognize that accessibility and affordability are multifaceted. Learners consider various aspects when deciding to enroll in a course, including their perceived value, the reputation of the course or platform, and the relevance of the course content to their learning goals."
   ]
  },
  {
   "attachments": {},
   "cell_type": "markdown",
   "id": "2eef33c4",
   "metadata": {},
   "source": []
  }
 ],
 "metadata": {
  "kernelspec": {
   "display_name": "Python 3 (ipykernel)",
   "language": "python",
   "name": "python3"
  },
  "language_info": {
   "codemirror_mode": {
    "name": "ipython",
    "version": 3
   },
   "file_extension": ".py",
   "mimetype": "text/x-python",
   "name": "python",
   "nbconvert_exporter": "python",
   "pygments_lexer": "ipython3",
   "version": "3.10.7"
  }
 },
 "nbformat": 4,
 "nbformat_minor": 5
}
